{
  "nbformat": 4,
  "nbformat_minor": 0,
  "metadata": {
    "colab": {
      "name": "Lab 5.ipynb",
      "provenance": [],
      "authorship_tag": "ABX9TyOn+kT6OmDRVgqYOgo5rbIm",
      "include_colab_link": true
    },
    "kernelspec": {
      "name": "python3",
      "display_name": "Python 3"
    },
    "language_info": {
      "name": "python"
    }
  },
  "cells": [
    {
      "cell_type": "markdown",
      "metadata": {
        "id": "view-in-github",
        "colab_type": "text"
      },
      "source": [
        "<a href=\"https://colab.research.google.com/github/ChinShuan/Python/blob/main/Lab_5.ipynb\" target=\"_parent\"><img src=\"https://colab.research.google.com/assets/colab-badge.svg\" alt=\"Open In Colab\"/></a>"
      ]
    },
    {
      "cell_type": "code",
      "metadata": {
        "colab": {
          "base_uri": "https://localhost:8080/"
        },
        "id": "XObBZ4FZqT6_",
        "outputId": "54d0bc07-9513-46b4-c102-63c4b70b2b10"
      },
      "source": [
        "def isPalindrome(*words):\n",
        "\n",
        "  newList=list(words)\n",
        "  list2=[]\n",
        "  for item in newList:\n",
        "    list2 += item\n",
        "\n",
        "  pal=[]\n",
        "\n",
        "  for x in list2:\n",
        "    i=x.casefold()\n",
        "    j=i.replace(\" \", \"\")\n",
        "    rev=j[::-1]\n",
        "\n",
        "    if rev == j:\n",
        "      pal.append(x)\n",
        "\n",
        "  return pal\n",
        "\n",
        "list1=[\"Madam\", \"Hi\", \"Python\", \"words\", \"katak\", \"pop\", \"dance\", \"belly\", \"Cacat\", \"Hello World\", \"Wohoo\", \"Do Geese See God\", \"Never Odd Or Even\", \"Bye bye\", \"nonono\", \"Hahaha\", \"Holidays\", \"ppp\", \"gather\", \"pizza\"]\n",
        "palindromelist=isPalindrome(list1)\n",
        "print(\"Palindrome:\")\n",
        "print(palindromelist)\n",
        "\n"
      ],
      "execution_count": null,
      "outputs": [
        {
          "output_type": "stream",
          "text": [
            "Palindrome:\n",
            "['Madam', 'katak', 'pop', 'Do Geese See God', 'Never Odd Or Even', 'ppp']\n"
          ],
          "name": "stdout"
        }
      ]
    },
    {
      "cell_type": "code",
      "metadata": {
        "colab": {
          "base_uri": "https://localhost:8080/"
        },
        "id": "5kZe65Ro1JEX",
        "outputId": "70ae4d35-3e94-4967-9b72-97ab8007912a"
      },
      "source": [
        "def isPalindrome(list2):\n",
        "  pal=[]\n",
        "\n",
        "  for x in list2:\n",
        "    i=x.casefold()\n",
        "    j=i.replace(\" \", \"\")\n",
        "    rev=j[::-1]\n",
        "\n",
        "    if rev == j:\n",
        "      pal.append(x)\n",
        "\n",
        "  return pal\n",
        "\n",
        "list1=[\"Madam\", \"Hi\", \"Python\", \"words\", \"katak\", \"pop\", \"dance\", \"belly\", \"Cacat\", \"Hello World\", \"Wohoo\", \"Do Geese See God\", \"Never Odd Or Even\", \"Bye bye\", \"nonono\", \"Hahaha\", \"Holidays\", \"ppp\", \"gather\", \"pizza\"]\n",
        "palindromelist=isPalindrome(list1)\n",
        "print(\"Palindrome:\")\n",
        "print(palindromelist)"
      ],
      "execution_count": null,
      "outputs": [
        {
          "output_type": "stream",
          "text": [
            "Palindrome:\n",
            "['Madam', 'katak', 'pop', 'Do Geese See God', 'Never Odd Or Even', 'ppp']\n"
          ],
          "name": "stdout"
        }
      ]
    },
    {
      "cell_type": "code",
      "metadata": {
        "colab": {
          "base_uri": "https://localhost:8080/"
        },
        "id": "ymQHe0SyvUdI",
        "outputId": "e99d5076-609f-48e0-9be3-6dd606892aab"
      },
      "source": [
        "def isPrime(*num):\n",
        "  list1=list(num)\n",
        "  list2=[]\n",
        "  for item in list1:\n",
        "    list2 += item\n",
        "\n",
        "  primelist=[]\n",
        "\n",
        "  for i in list2:\n",
        "    if i>1:\n",
        "      for x in range(2, i):\n",
        "        if(i % x==0):\n",
        "          break\n",
        "      else:\n",
        "        primelist.append(i)\n",
        "\n",
        "  return primelist\n",
        "\n",
        "numlist=[1, 2, 3, 4, 5, 6, 7, 8, 9, 10, 11, 12, 13, 14, 15, 16, 17, 18, 19, 20]\n",
        "ans=isPrime(numlist)\n",
        "print(\"Prime number: \", ans)"
      ],
      "execution_count": 59,
      "outputs": [
        {
          "output_type": "stream",
          "text": [
            "Prime number:  [2, 3, 5, 7, 11, 13, 17, 19]\n"
          ],
          "name": "stdout"
        }
      ]
    },
    {
      "cell_type": "code",
      "metadata": {
        "colab": {
          "base_uri": "https://localhost:8080/"
        },
        "id": "3M6IvxAh4bHW",
        "outputId": "3655b455-6718-4cbf-dfe0-6ef07f5cb020"
      },
      "source": [
        "def calcCase(string):\n",
        "  countUpper=0\n",
        "  countLower=0\n",
        "\n",
        "  for i in string:\n",
        "    if i.isupper():\n",
        "      countUpper += 1\n",
        "    elif i.islower():\n",
        "      countLower += 1\n",
        "\n",
        "  return countUpper, countLower\n",
        "string1='The quick Brow Fox'\n",
        "up, low=calcCase(string1)\n",
        "print(\"No. of Upper case characters: \", up)\n",
        "print(\"No. of Lower case characters: \", low)"
      ],
      "execution_count": 63,
      "outputs": [
        {
          "output_type": "stream",
          "text": [
            "No. of Upper case characters:  3\n",
            "No. of Lower case characters:  12\n"
          ],
          "name": "stdout"
        }
      ]
    },
    {
      "cell_type": "code",
      "metadata": {
        "colab": {
          "base_uri": "https://localhost:8080/"
        },
        "id": "Z_RvZby17XfV",
        "outputId": "40c77edb-e1ff-411b-8325-277c313f15c8"
      },
      "source": [
        "def calcCase(*string):\n",
        "  newList=list(string)\n",
        "  list1=[]\n",
        "  for item in newList:\n",
        "    list1 += item\n",
        "\n",
        "  countUpper=0\n",
        "  countLower=0\n",
        "  upper=[]\n",
        "  lower=[]\n",
        "\n",
        "  for i in list1:\n",
        "    for j in i:\n",
        "      if j.isupper():\n",
        "        countUpper += 1\n",
        "\n",
        "      elif j.islower():\n",
        "        countLower += 1\n",
        "     \n",
        "    upper.append(countUpper)\n",
        "    lower.append(countLower)\n",
        "    countUpper=0\n",
        "    countLower=0\n",
        "\n",
        "  return upper, lower\n",
        "\n",
        "mylist=['The quick Brow Fox', 'Today is red letter day', 'Happy HOlidays', 'Hello World', 'MeRRy Chritmas HOHOHO', 'Pentakilll', 'Abu Ali Akau', 'Anything lah', 'Python is fun', 'To be or not to be']\n",
        "up, low=calcCase(mylist)\n",
        "for x in range(len(mylist)):\n",
        "  print(mylist[x])\n",
        "  print(\"No. of Upper case characters: \", up[x])\n",
        "  print(\"No. of Lower case characters: \", low[x])\n",
        "  print()\n"
      ],
      "execution_count": 79,
      "outputs": [
        {
          "output_type": "stream",
          "text": [
            "The quick Brow Fox\n",
            "No. of Upper case characters:  3\n",
            "No. of Lower case characters:  12\n",
            "\n",
            "Today is red letter day\n",
            "No. of Upper case characters:  1\n",
            "No. of Lower case characters:  18\n",
            "\n",
            "Happy HOlidays\n",
            "No. of Upper case characters:  3\n",
            "No. of Lower case characters:  10\n",
            "\n",
            "Hello World\n",
            "No. of Upper case characters:  2\n",
            "No. of Lower case characters:  8\n",
            "\n",
            "MeRRy Chritmas HOHOHO\n",
            "No. of Upper case characters:  10\n",
            "No. of Lower case characters:  9\n",
            "\n",
            "Pentakilll\n",
            "No. of Upper case characters:  1\n",
            "No. of Lower case characters:  9\n",
            "\n",
            "Abu Ali Akau\n",
            "No. of Upper case characters:  3\n",
            "No. of Lower case characters:  7\n",
            "\n",
            "Anything lah\n",
            "No. of Upper case characters:  1\n",
            "No. of Lower case characters:  10\n",
            "\n",
            "Python is fun\n",
            "No. of Upper case characters:  1\n",
            "No. of Lower case characters:  10\n",
            "\n",
            "To be or not to be\n",
            "No. of Upper case characters:  1\n",
            "No. of Lower case characters:  12\n",
            "\n"
          ],
          "name": "stdout"
        }
      ]
    },
    {
      "cell_type": "code",
      "metadata": {
        "colab": {
          "base_uri": "https://localhost:8080/"
        },
        "id": "_iBiaWQl-oRp",
        "outputId": "b6a875cd-05a4-4959-b98e-87797addd832"
      },
      "source": [
        "txt='The quick brown fox jumps over the lazy dog.'\n",
        "\n",
        "x=txt.split()\n",
        "print(\"Five characters long word:\")\n",
        "\n",
        "for i in x:\n",
        "  if len(i) == 5:\n",
        "    print(i , end=\"    \")\n",
        "    \n"
      ],
      "execution_count": 84,
      "outputs": [
        {
          "output_type": "stream",
          "text": [
            "Five characters long word:\n",
            "quick    brown    jumps    "
          ],
          "name": "stdout"
        }
      ]
    },
    {
      "cell_type": "code",
      "metadata": {
        "colab": {
          "base_uri": "https://localhost:8080/"
        },
        "id": "gGqIPIZ6BSVI",
        "outputId": "46fc79f2-1aac-4f52-d500-30ca14451446"
      },
      "source": [
        "txt='Microsoft Corp. today announced its “Bersama Malaysia” (Together with Malaysia) initiative, which marks a significant commitment to empowering Malaysia’s inclusive digital economy and advancing the nation’s digital transformation across the private and public sectors. As part of the plan, Microsoft will establish its first datacenter region in the country to deliver trusted cloud services locally, with world-class data security, privacy, and the ability to store data in-country. Microsoft also announced plans to skill an additional 1 million Malaysians by end of 2023 to help create economic opportunities for people and businesses in the digital era.' \n",
        "\n",
        "x=txt.split()\n",
        "lista=[]\n",
        "liste=[]\n",
        "list3=[]\n",
        "list4=[]\n",
        "list5=[]\n",
        "\n",
        "for i in x:\n",
        "  if i.startswith('a'):\n",
        "    lista.append(i)\n",
        "  elif i.startswith('e'):\n",
        "    liste.append(i)\n",
        "\n",
        "print(\"Words start with 'a': \")\n",
        "print(lista)\n",
        "print()\n",
        "print(\"Words start with 'e': \")\n",
        "print(liste)\n",
        "print()\n",
        "\n",
        "for j in x:\n",
        "  if len(j) == 3:\n",
        "    list3.append(j)\n",
        "  elif len(j) == 4:\n",
        "    list4.append(j)\n",
        "  elif len(j) == 5:\n",
        "    list5.append(j)\n",
        "\n",
        "print(\"3 characters long words:\")\n",
        "print(list3)\n",
        "print()\n",
        "print(\"4 characters long words:\")\n",
        "print(list4)\n",
        "print()\n",
        "print(\"5 characters long words:\")\n",
        "print(list5)\n",
        "\n"
      ],
      "execution_count": 92,
      "outputs": [
        {
          "output_type": "stream",
          "text": [
            "Words start with 'a': \n",
            "['announced', 'a', 'and', 'advancing', 'across', 'and', 'and', 'ability', 'also', 'announced', 'an', 'additional', 'and']\n",
            "\n",
            "Words start with 'e': \n",
            "['empowering', 'economy', 'establish', 'end', 'economic', 'era.']\n",
            "\n",
            "3 characters long words:\n",
            "['its', 'and', 'the', 'the', 'and', 'the', 'its', 'the', 'and', 'the', 'end', 'for', 'and', 'the']\n",
            "\n",
            "4 characters long words:\n",
            "['with', 'part', 'will', 'with', 'data', 'data', 'also', '2023', 'help', 'era.']\n",
            "\n",
            "5 characters long words:\n",
            "['today', 'which', 'marks', 'plan,', 'first', 'cloud', 'store', 'plans', 'skill']\n"
          ],
          "name": "stdout"
        }
      ]
    }
  ]
}