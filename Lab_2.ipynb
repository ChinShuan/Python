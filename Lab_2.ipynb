{
  "nbformat": 4,
  "nbformat_minor": 0,
  "metadata": {
    "colab": {
      "name": "Lab 2.ipynb",
      "provenance": [],
      "authorship_tag": "ABX9TyN0meszvYYRcA1LsJpupypJ",
      "include_colab_link": true
    },
    "kernelspec": {
      "name": "python3",
      "display_name": "Python 3"
    },
    "language_info": {
      "name": "python"
    }
  },
  "cells": [
    {
      "cell_type": "markdown",
      "metadata": {
        "id": "view-in-github",
        "colab_type": "text"
      },
      "source": [
        "<a href=\"https://colab.research.google.com/github/ChinShuan/Python/blob/main/Lab_2.ipynb\" target=\"_parent\"><img src=\"https://colab.research.google.com/assets/colab-badge.svg\" alt=\"Open In Colab\"/></a>"
      ]
    },
    {
      "cell_type": "code",
      "metadata": {
        "id": "fS8wSRt4mjyx"
      },
      "source": [
        "for num in range (1,1001):\n",
        "  print (num)"
      ],
      "execution_count": null,
      "outputs": []
    },
    {
      "cell_type": "code",
      "metadata": {
        "colab": {
          "base_uri": "https://localhost:8080/"
        },
        "id": "NPrN-Yjnn-7D",
        "outputId": "dc161244-27b6-41c1-a42b-143c90bf8c83"
      },
      "source": [
        "total=0\n",
        "numlist=[]\n",
        "big=[]\n",
        "small=[]\n",
        "\n",
        "for num in range (10):\n",
        "  val=(random.randint(1,9))\n",
        "  numlist.append(val)\n",
        "  #numlist.append(random.randint(1,9)\n",
        "  total+=val\n",
        "\n",
        "print(numlist)\n",
        "print(\"Total: \" + str(total))\n",
        "\n",
        "# always create list to store data\n",
        "for i in numlist:\n",
        "  if i>ans:\n",
        "    big.append(i)\n",
        "  else:\n",
        "    small.append(i)\n",
        "\n",
        "print(\"Number larger than average: \", big)\n",
        "\n",
        "def cal_average(mylist):\n",
        "  #everything done in local\n",
        "  sum=total; \n",
        "  avg=sum/len(numlist)\n",
        "  return avg\n",
        "\n",
        "#always assign a variable\n",
        "ans=cal_average(numlist);\n",
        "print(\"Average: \" + str(ans))"
      ],
      "execution_count": 44,
      "outputs": [
        {
          "output_type": "stream",
          "text": [
            "[2, 5, 4, 3, 7, 1, 7, 3, 2, 2]\n",
            "Total: 36\n",
            "Number larger than average:  [7, 7]\n",
            "Average: 3.6\n"
          ],
          "name": "stdout"
        }
      ]
    },
    {
      "cell_type": "code",
      "metadata": {
        "id": "X7RjGhz1rzS6"
      },
      "source": [
        ""
      ],
      "execution_count": null,
      "outputs": []
    }
  ]
}